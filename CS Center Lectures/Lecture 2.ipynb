{
 "cells": [
  {
   "cell_type": "markdown",
   "id": "7e6ef21e",
   "metadata": {},
   "source": [
    "# Lecture 2: Sorting $O(n^2)$ algorithms"
   ]
  },
  {
   "cell_type": "markdown",
   "id": "3c094d2b",
   "metadata": {},
   "source": [
    "## Selection sort"
   ]
  },
  {
   "cell_type": "code",
   "execution_count": 9,
   "id": "3185ee3e",
   "metadata": {},
   "outputs": [
    {
     "name": "stdout",
     "output_type": "stream",
     "text": [
      "2 1 4 3 5 6 10 7\n",
      "[1, 2, 3, 4, 5, 6, 7, 10]\n"
     ]
    }
   ],
   "source": [
    "arr = list(map(int, input().split()))\n",
    "for i in range(len(arr)):\n",
    "    minimum_el = i\n",
    "    for j in range(i+1, len(arr)):\n",
    "        if arr[j] < arr[minimum_el]:\n",
    "            minimum_el = j\n",
    "    arr[minimum_el], arr[i] = arr[i], arr[minimum_el]\n",
    "print(arr)"
   ]
  },
  {
   "cell_type": "markdown",
   "id": "e8b55b42",
   "metadata": {},
   "source": [
    "## Insertation sort"
   ]
  },
  {
   "cell_type": "code",
   "execution_count": 7,
   "id": "87ebcdbf",
   "metadata": {},
   "outputs": [],
   "source": [
    "def insertation_sort(nums):\n",
    "    n = len(nums)\n",
    "    for i in range(1,n):\n",
    "        current = nums[i]\n",
    "        j = i - 1\n",
    "        while j >= 0 and nums[j] > current:\n",
    "            nums[j+1] = nums[j]\n",
    "            j -= 1\n",
    "        nums[j+1] = current\n",
    "    return nums"
   ]
  },
  {
   "cell_type": "code",
   "execution_count": 11,
   "id": "7bcc1e1b",
   "metadata": {},
   "outputs": [],
   "source": [
    "arr = [2, 1, 3, 4, 5, 6, 7, 10]"
   ]
  },
  {
   "cell_type": "markdown",
   "id": "23b71ae0",
   "metadata": {},
   "source": [
    "## Bubble sort"
   ]
  },
  {
   "cell_type": "code",
   "execution_count": 32,
   "id": "2afa9690",
   "metadata": {},
   "outputs": [],
   "source": [
    "def bubble_sort(nums):\n",
    "    n = len(nums)\n",
    "    for i in range(n-1):\n",
    "        for j in range(n-i-1):\n",
    "            if nums[j] > nums[j+1]:\n",
    "                nums[j], nums[j+1] = nums[j+1], nums[j]\n",
    "    return nums"
   ]
  },
  {
   "cell_type": "code",
   "execution_count": 33,
   "id": "5fe2a5f1",
   "metadata": {},
   "outputs": [
    {
     "data": {
      "text/plain": [
       "[1, 2, 3, 4, 5, 6, 7, 10]"
      ]
     },
     "execution_count": 33,
     "metadata": {},
     "output_type": "execute_result"
    }
   ],
   "source": [
    "bubble_sort(arr)"
   ]
  },
  {
   "cell_type": "markdown",
   "id": "f604d9fb",
   "metadata": {},
   "source": [
    "## Merge sort"
   ]
  },
  {
   "cell_type": "code",
   "execution_count": null,
   "id": "e171d2f9",
   "metadata": {},
   "outputs": [],
   "source": []
  }
 ],
 "metadata": {
  "kernelspec": {
   "display_name": "Python 3 (ipykernel)",
   "language": "python",
   "name": "python3"
  },
  "language_info": {
   "codemirror_mode": {
    "name": "ipython",
    "version": 3
   },
   "file_extension": ".py",
   "mimetype": "text/x-python",
   "name": "python",
   "nbconvert_exporter": "python",
   "pygments_lexer": "ipython3",
   "version": "3.10.12"
  }
 },
 "nbformat": 4,
 "nbformat_minor": 5
}
