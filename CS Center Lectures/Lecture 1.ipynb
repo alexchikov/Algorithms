{
 "cells": [
  {
   "cell_type": "markdown",
   "id": "79bbf64a",
   "metadata": {},
   "source": [
    "# Lecture №1"
   ]
  },
  {
   "cell_type": "markdown",
   "id": "dc806be4",
   "metadata": {},
   "source": [
    "<a href=\"https://www.youtube.com/watch?v=k850DNwR9xw&list=PLlb7e2G7aSpTZN_zRrbpVJUvB-pTuM_VL\">Лекция</a>"
   ]
  },
  {
   "cell_type": "markdown",
   "id": "e9287852",
   "metadata": {},
   "source": [
    "## Part I (\"Big O\" notation)"
   ]
  },
  {
   "cell_type": "code",
   "execution_count": 1,
   "id": "e72ae4c1",
   "metadata": {},
   "outputs": [
    {
     "name": "stdout",
     "output_type": "stream",
     "text": [
      "2 1 4 3 10 5 7 6\n",
      "10\n"
     ]
    }
   ],
   "source": [
    "# пример алгоритма для определения алгоритма\n",
    "inp = list(map(int, input().split())) # входные данные \n",
    "\n",
    "maximum = float('-inf')\n",
    "for elem in inp:\n",
    "    if elem > maximum:\n",
    "        maximum = elem\n",
    "    else:\n",
    "        continue\n",
    "\n",
    "print(maximum) # выходные данные"
   ]
  },
  {
   "cell_type": "markdown",
   "id": "c158f2d2",
   "metadata": {},
   "source": [
    "### $O$"
   ]
  },
  {
   "cell_type": "markdown",
   "id": "45e96001",
   "metadata": {},
   "source": [
    "$O(f(n))$ - класс функций, от какой-либо функции. \n",
    "\n",
    "Например, существует класс функций $O(n)$ (к которому принадлежит предыдущий алгоритм)."
   ]
  },
  {
   "cell_type": "markdown",
   "id": "f3f7601f",
   "metadata": {},
   "source": [
    "Грубо говоря, $O(f(n))$ - ограничение скорости роста функции сверху."
   ]
  },
  {
   "cell_type": "markdown",
   "id": "9d85d7a9",
   "metadata": {},
   "source": [
    "### Задачи"
   ]
  },
  {
   "cell_type": "code",
   "execution_count": null,
   "id": "e7d4df98",
   "metadata": {},
   "outputs": [],
   "source": [
    "# 1 (считаем, что пример написан на псевдокоде и не важно значение n)\n",
    "for i in range(1, n):\n",
    "    for j in range(1, n):\n",
    "        if a[i] > a[j]:\n",
    "            a[i], a[j] = a[j], a[i]"
   ]
  },
  {
   "cell_type": "markdown",
   "id": "e229acdb",
   "metadata": {},
   "source": [
    "Скорость роста времени данной сортировки имеет значение:\n",
    "\n",
    "$\\frac{n*(n-1)}{2} = \\frac{n^2}{2} - \\frac{n}{2}$\n",
    "\n",
    "Тогда, скорость роста алгоритма можно определить, как $O(n^2)$"
   ]
  },
  {
   "cell_type": "code",
   "execution_count": null,
   "id": "e1af1557",
   "metadata": {},
   "outputs": [],
   "source": [
    "# 2 (считаем, что пример написан на псевдокоде и не важно значение n, S)\n",
    "j = n\n",
    "for i in range(1, n):\n",
    "    while (j > 0) and (a[i] + a[j] > S):\n",
    "        j -= 1\n",
    "    if a[i] + a[j] == S:\n",
    "        print(a[i], a[j])\n",
    "        break"
   ]
  },
  {
   "cell_type": "markdown",
   "id": "711e4a8c",
   "metadata": {},
   "source": [
    "__Решение__:\n",
    "\n",
    "Алгоритм имеет скорость роста $n*j$.\n",
    "\n",
    "Значит $O(f(n)) = n^2$"
   ]
  },
  {
   "cell_type": "markdown",
   "id": "90bec386",
   "metadata": {},
   "source": [
    "__Ответ__:\n",
    "\n",
    "Алгоритм можно оценить, как $O(n^2)$, однако, т.к. $j \\leq n$, т.е. j не возрастает в процессе работы алгоритма, а $i \\leq n$, то скорость можно оценить, как $O(n)$.\n",
    "\n",
    "Нижняя граница: $\\omega(1)$"
   ]
  },
  {
   "cell_type": "markdown",
   "id": "747607a4",
   "metadata": {},
   "source": [
    "## Part II (оценка рекурсивных алгоритмов)"
   ]
  },
  {
   "cell_type": "code",
   "execution_count": null,
   "id": "796e5a2b",
   "metadata": {},
   "outputs": [],
   "source": [
    "# пример(считаем, что пример написан на псевдокоде и не важно значение n, a)\n",
    "def pow(n, a):\n",
    "    if n == 0:\n",
    "        return 1\n",
    "    b = pow(a,n/2)*pow(a,n/2)\n",
    "    if n%2 == 1:\n",
    "        b *= a\n",
    "    return b"
   ]
  },
  {
   "cell_type": "markdown",
   "id": "a6fc546d",
   "metadata": {},
   "source": [
    "$T(n) = 1 + 2 \\cdot T(\\frac{n}{2})$\n",
    "\n",
    "Докажем по мат. индукции, что $T(n) \\le c \\cdot n$ "
   ]
  },
  {
   "cell_type": "markdown",
   "id": "de177d11",
   "metadata": {},
   "source": [
    "При 1: $T(1) = 1$"
   ]
  },
  {
   "cell_type": "markdown",
   "id": "5c2b3382",
   "metadata": {},
   "source": [
    "При n:\n",
    "\n",
    "$T(n) = 1 + 2 \\cdot T(\\frac{n}{2}) \\le c \\cdot n$\n",
    "\n",
    "$T(n) = 1 + 2 \\cdot T(\\frac{n}{2}) \\le 1 + 2 \\cdot (\\frac{c \\cdot n}{2} - 1)$\n",
    "\n",
    "$T(n) = T(\\frac{n}{2}) \\le c \\cdot n - 1$"
   ]
  },
  {
   "cell_type": "code",
   "execution_count": null,
   "id": "3e41c9f0",
   "metadata": {},
   "outputs": [],
   "source": []
  }
 ],
 "metadata": {
  "kernelspec": {
   "display_name": "Python 3 (ipykernel)",
   "language": "python",
   "name": "python3"
  },
  "language_info": {
   "codemirror_mode": {
    "name": "ipython",
    "version": 3
   },
   "file_extension": ".py",
   "mimetype": "text/x-python",
   "name": "python",
   "nbconvert_exporter": "python",
   "pygments_lexer": "ipython3",
   "version": "3.10.12"
  }
 },
 "nbformat": 4,
 "nbformat_minor": 5
}
