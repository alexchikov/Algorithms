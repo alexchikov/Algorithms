{
 "cells": [
  {
   "cell_type": "markdown",
   "id": "a3a1ab11",
   "metadata": {},
   "source": [
    "# Lecture №1"
   ]
  },
  {
   "cell_type": "markdown",
   "id": "0bf87242",
   "metadata": {},
   "source": [
    "<a href=\"https://www.youtube.com/watch?v=k850DNwR9xw&list=PLlb7e2G7aSpTZN_zRrbpVJUvB-pTuM_VL\">Лекция</a>"
   ]
  },
  {
   "cell_type": "markdown",
   "id": "f3fb3d38",
   "metadata": {},
   "source": [
    "## Part I (\"Big O\" notation)"
   ]
  },
  {
   "cell_type": "code",
   "execution_count": 1,
   "id": "1d19adcd",
   "metadata": {},
   "outputs": [
    {
     "name": "stdout",
     "output_type": "stream",
     "text": [
      "2 1 4 3 10 5 7 6\n",
      "10\n"
     ]
    }
   ],
   "source": [
    "# пример алгоритма для определения алгоритма\n",
    "inp = list(map(int, input().split())) # входные данные \n",
    "\n",
    "maximum = float('-inf')\n",
    "for elem in inp:\n",
    "    if elem > maximum:\n",
    "        maximum = elem\n",
    "    else:\n",
    "        continue\n",
    "\n",
    "print(maximum) # выходные данные"
   ]
  },
  {
   "cell_type": "markdown",
   "id": "6e920dbe",
   "metadata": {},
   "source": [
    "### $O$"
   ]
  },
  {
   "cell_type": "markdown",
   "id": "a9452afd",
   "metadata": {},
   "source": [
    "$O(f(n))$ - класс функций, от какой-либо функции. \n",
    "\n",
    "Например, существует класс функций $O(n)$ (к которому принадлежит предыдущий алгоритм)."
   ]
  },
  {
   "cell_type": "markdown",
   "id": "0aa6bbc7",
   "metadata": {},
   "source": [
    "Грубо говоря, $O(f(n))$ - ограничение скорости роста функции сверху."
   ]
  },
  {
   "cell_type": "markdown",
   "id": "00fdab71",
   "metadata": {},
   "source": [
    "### Задачи"
   ]
  },
  {
   "cell_type": "code",
   "execution_count": null,
   "id": "1d248ff6",
   "metadata": {},
   "outputs": [],
   "source": [
    "# 1 (считаем, что пример написан на псевдокоде и не важно значение n)\n",
    "for i in range(1, n):\n",
    "    for j in range(1, n):\n",
    "        if a[i] > a[j]:\n",
    "            a[i], a[j] = a[j], a[i]"
   ]
  },
  {
   "cell_type": "markdown",
   "id": "bef668e8",
   "metadata": {},
   "source": [
    "Скорость роста времени данной сортировки имеет значение:\n",
    "\n",
    "$\\frac{n*(n-1)}{2} = \\frac{n^2}{2} - \\frac{n}{2}$\n",
    "\n",
    "Тогда, скорость роста алгоритма можно определить, как $O(n^2)$"
   ]
  },
  {
   "cell_type": "code",
   "execution_count": null,
   "id": "3b2752a2",
   "metadata": {},
   "outputs": [],
   "source": [
    "# 2 (считаем, что пример написан на псевдокоде и не важно значение n, S)\n",
    "j = n\n",
    "for i in range(1, n):\n",
    "    while (j > 0) and (a[i] + a[j] > S):\n",
    "        j -= 1\n",
    "    if a[i] + a[j] == S:\n",
    "        print(a[i], a[j])\n",
    "        break"
   ]
  },
  {
   "cell_type": "markdown",
   "id": "20f8979e",
   "metadata": {},
   "source": [
    "__Решение__:\n",
    "\n",
    "Алгоритм имеет скорость роста $n*j$.\n",
    "\n",
    "Значит $O(f(n)) = n^2$"
   ]
  },
  {
   "cell_type": "markdown",
   "id": "67e116c5",
   "metadata": {},
   "source": [
    "__Ответ__:\n",
    "\n",
    "Алгоритм можно оценить, как $O(n^2)$, однако, т.к. $j \\leq n$, т.е. j не возрастает в процессе работы алгоритма, а $i \\leq n$, то скорость можно оценить, как $O(n)$.\n",
    "\n",
    "Нижняя граница: $\\omega(1)$"
   ]
  },
  {
   "cell_type": "markdown",
   "id": "7198c322",
   "metadata": {},
   "source": [
    "## Part II (оценка рекурсивных алгоритмов)"
   ]
  },
  {
   "cell_type": "code",
   "execution_count": null,
   "id": "5f67ed0a",
   "metadata": {},
   "outputs": [],
   "source": [
    "# пример(считаем, что пример написан на псевдокоде и не важно значение n, a)\n",
    "def pow(n, a):\n",
    "    if n == 0:\n",
    "        return 1\n",
    "    b = pow(a,n/2)*pow(a,n/2)\n",
    "    if n%2 == 1:\n",
    "        b *= a\n",
    "    return b"
   ]
  },
  {
   "cell_type": "markdown",
   "id": "07256fa7",
   "metadata": {},
   "source": [
    "$T(n) = 1 + 2 \\cdot T(\\frac{n}{2})$\n",
    "\n",
    "$n = 2k$\n",
    "$"
   ]
  },
  {
   "cell_type": "code",
   "execution_count": null,
   "id": "1190a465",
   "metadata": {},
   "outputs": [],
   "source": []
  }
 ],
 "metadata": {
  "kernelspec": {
   "display_name": "Python 3 (ipykernel)",
   "language": "python",
   "name": "python3"
  },
  "language_info": {
   "codemirror_mode": {
    "name": "ipython",
    "version": 3
   },
   "file_extension": ".py",
   "mimetype": "text/x-python",
   "name": "python",
   "nbconvert_exporter": "python",
   "pygments_lexer": "ipython3",
   "version": "3.10.12"
  }
 },
 "nbformat": 4,
 "nbformat_minor": 5
}
